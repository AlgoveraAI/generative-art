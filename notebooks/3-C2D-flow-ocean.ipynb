{
 "cells": [
  {
   "cell_type": "markdown",
   "id": "1241ea89",
   "metadata": {},
   "source": [
    "Converted from the ocean.py C2D flow example [here](https://github.com/oceanprotocol/ocean.py/blob/main/READMEs/c2d-flow.md). Our example uses the Rinkeby test net instead of a local blockchain (using barge and ganache)."
   ]
  },
  {
   "cell_type": "markdown",
   "id": "ea06c399",
   "metadata": {},
   "source": [
    "### Set envvars\n",
    "\n",
    "In the work console:\n",
    "```console\n",
    "#set private keys of two accounts\n",
    "export TEST_PRIVATE_KEY1=0x5d75837394b078ce97bc289fa8d75e21000573520bfa7784a9d28ccaae602bf8\n",
    "export TEST_PRIVATE_KEY2=0xef4b441145c1d0f3b4bc6d61d29f5c6e502359481152f869247c7a4244d45209\n",
    "```"
   ]
  },
  {
   "cell_type": "code",
   "execution_count": 1,
   "id": "d69f9486",
   "metadata": {},
   "outputs": [
    {
     "name": "stdout",
     "output_type": "stream",
     "text": [
      "config.network_url = 'https://rinkeby.infura.io/v3/d163c48816434b0bbb3ac3925d6c6c80'\n",
      "config.block_confirmations = 0\n",
      "config.metadata_cache_uri = 'https://aquarius.oceanprotocol.com'\n",
      "config.provider_url = 'https://provider.rinkeby.oceanprotocol.com'\n"
     ]
    }
   ],
   "source": [
    "import _init_paths\n",
    "from ocean_lib.ocean.ocean import Ocean\n",
    "from ocean_lib.config import Config\n",
    "\n",
    "config = Config('config.ini')\n",
    "ocean = Ocean(config)\n",
    "\n",
    "print(f\"config.network_url = '{config.network_url}'\")\n",
    "print(f\"config.block_confirmations = {config.block_confirmations.value}\")\n",
    "print(f\"config.metadata_cache_uri = '{config.metadata_cache_uri}'\")\n",
    "print(f\"config.provider_url = '{config.provider_url}'\")"
   ]
  },
  {
   "cell_type": "code",
   "execution_count": 2,
   "id": "8989b37c",
   "metadata": {},
   "outputs": [
    {
     "name": "stdout",
     "output_type": "stream",
     "text": [
      "alice_wallet.address = '0xA78deb2Fa79463945C247991075E2a0e98Ba7A09'\n"
     ]
    }
   ],
   "source": [
    "# Create Alice's wallet\n",
    "import os\n",
    "from ocean_lib.web3_internal.wallet import Wallet\n",
    "alice_wallet = Wallet(ocean.web3, os.getenv('TEST_PRIVATE_KEY1'), transaction_timeout=20, block_confirmations=config.block_confirmations)\n",
    "print(f\"alice_wallet.address = '{alice_wallet.address}'\")"
   ]
  },
  {
   "cell_type": "code",
   "execution_count": 3,
   "id": "cd6b54fe",
   "metadata": {},
   "outputs": [],
   "source": [
    "assert alice_wallet.web3.eth.get_balance(alice_wallet.address) > 0, \"need ETH\""
   ]
  },
  {
   "cell_type": "markdown",
   "id": "c36805c5",
   "metadata": {},
   "source": [
    "If ETH balance is low, you can request some for alice_wallet.address from the Rinkeby faucet [here](https://faucet.rinkeby.io/) (you'll need to make a tweet). "
   ]
  },
  {
   "cell_type": "markdown",
   "id": "ce0a4f3b",
   "metadata": {},
   "source": [
    "## 2. Alice publishes data asset"
   ]
  },
  {
   "cell_type": "code",
   "execution_count": 4,
   "id": "897d9692",
   "metadata": {},
   "outputs": [
    {
     "name": "stdout",
     "output_type": "stream",
     "text": [
      "DATA_datatoken.address = '0xF75D8ADFfDCf408Dd690699B46a4D2b13975D11E'\n"
     ]
    }
   ],
   "source": [
    "# Publish DATA datatoken, mint tokens\n",
    "from ocean_lib.web3_internal.currency import to_wei\n",
    "\n",
    "DATA_datatoken = ocean.create_data_token('DATA1', 'DATA1', alice_wallet, blob=ocean.config.metadata_cache_uri)\n",
    "DATA_datatoken.mint(alice_wallet.address, to_wei(100), alice_wallet)\n",
    "print(f\"DATA_datatoken.address = '{DATA_datatoken.address}'\")"
   ]
  },
  {
   "cell_type": "code",
   "execution_count": 5,
   "id": "9fb0b7e3",
   "metadata": {},
   "outputs": [
    {
     "name": "stdout",
     "output_type": "stream",
     "text": [
      "signing message with nonce 2: 0xF75D8ADFfDCf408Dd690699B46a4D2b13975D11E, account=0xA78deb2Fa79463945C247991075E2a0e98Ba7A09\n",
      "DATA did = 'did:op:F75D8ADFfDCf408Dd690699B46a4D2b13975D11E'\n"
     ]
    }
   ],
   "source": [
    "# Specify metadata & service attributes for Branin test dataset.\n",
    "# It's specified using _local_ DDO metadata format; Aquarius will convert it to remote\n",
    "# by removing `url` and adding `encryptedFiles` field.\n",
    "DATA_metadata = {\n",
    "    \"main\": {\n",
    "        \"type\": \"dataset\",\n",
    "        \"files\": [\n",
    "      {\n",
    "        \"url\": \"https://raw.githubusercontent.com/trentmc/branin/main/branin.arff\",\n",
    "        \"index\": 0,\n",
    "        \"contentType\": \"text/text\"\n",
    "      }\n",
    "    ],\n",
    "    \"name\": \"branin\", \"author\": \"Trent\", \"license\": \"CC0\",\n",
    "    \"dateCreated\": \"2019-12-28T10:55:11Z\"\n",
    "    }\n",
    "}\n",
    "DATA_service_attributes = {\n",
    "    \"main\": {\n",
    "        \"name\": \"DATA_dataAssetAccessServiceAgreement\",\n",
    "        \"creator\": alice_wallet.address,\n",
    "        \"timeout\": 3600 * 24,\n",
    "        \"datePublished\": \"2019-12-28T10:55:11Z\",\n",
    "        \"cost\": 1.0, # <don't change, this is obsolete>\n",
    "        }\n",
    "    }\n",
    "\n",
    "# Set up a service provider. We'll use this same provider for ALG\n",
    "from ocean_lib.data_provider.data_service_provider import DataServiceProvider\n",
    "provider_url = DataServiceProvider.get_url(ocean.config)\n",
    "# returns \"http://localhost:8030\"\n",
    "\n",
    "# Calc DATA service compute descriptor\n",
    "from ocean_lib.services.service import Service\n",
    "from ocean_lib.common.agreements.service_types import ServiceTypes\n",
    "DATA_compute_service = Service(\n",
    "    service_endpoint=provider_url,\n",
    "    service_type=ServiceTypes.CLOUD_COMPUTE,\n",
    "    attributes=DATA_service_attributes\n",
    ")\n",
    "\n",
    "#Publish metadata and service info on-chain\n",
    "DATA_ddo = ocean.assets.create(\n",
    "  metadata=DATA_metadata, # {\"main\" : {\"type\" : \"dataset\", ..}, ..}\n",
    "  publisher_wallet=alice_wallet,\n",
    "  services=[DATA_compute_service],\n",
    "  data_token_address=DATA_datatoken.address)\n",
    "print(f\"DATA did = '{DATA_ddo.did}'\")"
   ]
  },
  {
   "cell_type": "markdown",
   "id": "290284ae",
   "metadata": {},
   "source": [
    "## 3. Alice publishes algorithm"
   ]
  },
  {
   "cell_type": "markdown",
   "id": "3f984444",
   "metadata": {},
   "source": [
    "For this step, there are some prerequisites needed. If you want to replace the sample algorithm with an algorithm of your choosing, you will need to do some dependency management.\n",
    "You can use one of the standard [Ocean algo_dockers images](https://github.com/oceanprotocol/algo_dockers) or publish a custom docker image.\n",
    "Use the image name and tag in the `container` part of the algorithm metadata.\n",
    "This docker image needs to have basic support for dependency installation e.g. in the case of Python, OS-level library installations, pip installations etc.\n",
    "Take a look at the [Ocean tutorials](https://docs.oceanprotocol.com/tutorials/compute-to-data-algorithms/) to learn more about docker image publishing."
   ]
  },
  {
   "cell_type": "code",
   "execution_count": 6,
   "id": "d2ef0dac",
   "metadata": {},
   "outputs": [
    {
     "name": "stdout",
     "output_type": "stream",
     "text": [
      "ALG_datatoken.address = '0xf60Cdb89bA746aaFb92232B8eb2e7ba9c9f5B8B7'\n",
      "signing message with nonce 3: 0xf60Cdb89bA746aaFb92232B8eb2e7ba9c9f5B8B7, account=0xA78deb2Fa79463945C247991075E2a0e98Ba7A09\n",
      "ALG did = 'did:op:f60Cdb89bA746aaFb92232B8eb2e7ba9c9f5B8B7'\n"
     ]
    }
   ],
   "source": [
    "# Publish ALG datatoken\n",
    "ALG_datatoken = ocean.create_data_token('ALG1', 'ALG1', alice_wallet, blob=ocean.config.metadata_cache_uri)\n",
    "ALG_datatoken.mint(alice_wallet.address, to_wei(100), alice_wallet)\n",
    "print(f\"ALG_datatoken.address = '{ALG_datatoken.address}'\")\n",
    "\n",
    "# Specify metadata and service attributes, for \"GPR\" algorithm script.\n",
    "# In same location as Branin test dataset. GPR = Gaussian Process Regression.\n",
    "ALG_metadata =  {\n",
    "    \"main\": {\n",
    "        \"type\": \"algorithm\",\n",
    "        \"algorithm\": {\n",
    "            \"language\": \"python\",\n",
    "            \"format\": \"docker-image\",\n",
    "            \"version\": \"0.1\",\n",
    "            \"container\": {\n",
    "              \"entrypoint\": \"python $ALGO\",\n",
    "              \"image\": \"oceanprotocol/algo_dockers\",\n",
    "              \"tag\": \"python-branin\"\n",
    "            }\n",
    "        },\n",
    "        \"files\": [\n",
    "      {\n",
    "        \"url\": \"https://raw.githubusercontent.com/trentmc/branin/main/gpr.py\",\n",
    "        \"index\": 0,\n",
    "        \"contentType\": \"text/text\",\n",
    "      }\n",
    "    ],\n",
    "    \"name\": \"gpr\", \"author\": \"Trent\", \"license\": \"CC0\",\n",
    "    \"dateCreated\": \"2020-01-28T10:55:11Z\"\n",
    "    }\n",
    "}\n",
    "ALG_service_attributes = {\n",
    "        \"main\": {\n",
    "            \"name\": \"ALG_dataAssetAccessServiceAgreement\",\n",
    "            \"creator\": alice_wallet.address,\n",
    "            \"timeout\": 3600 * 24,\n",
    "            \"datePublished\": \"2020-01-28T10:55:11Z\",\n",
    "            \"cost\": 1.0, # <don't change, this is obsolete>\n",
    "        }\n",
    "    }\n",
    "\n",
    "# Calc ALG service access descriptor. We use the same service provider as DATA\n",
    "ALG_access_service = Service(\n",
    "    service_endpoint=provider_url,\n",
    "    service_type=ServiceTypes.CLOUD_COMPUTE,\n",
    "    attributes=ALG_service_attributes\n",
    ")\n",
    "\n",
    "# Publish metadata and service info on-chain\n",
    "ALG_ddo = ocean.assets.create(\n",
    "  metadata=ALG_metadata, # {\"main\" : {\"type\" : \"algorithm\", ..}, ..}\n",
    "  publisher_wallet=alice_wallet,\n",
    "  services=[ALG_access_service],\n",
    "  data_token_address=ALG_datatoken.address)\n",
    "print(f\"ALG did = '{ALG_ddo.did}'\")"
   ]
  },
  {
   "cell_type": "markdown",
   "id": "47573179",
   "metadata": {},
   "source": [
    "Full details: [ALG_ddo](ALG_ddo.md)\n",
    "\n",
    "Please note that this example features a simple Python algorithm. If you publish an algorithm in another language, make sure you have an appropriate container to run it, including dependencies.\n",
    "You can find more information about how to do this in the [Ocean tutorials](https://docs.oceanprotocol.com/tutorials/compute-to-data-algorithms/)."
   ]
  },
  {
   "cell_type": "markdown",
   "id": "b5360225",
   "metadata": {},
   "source": [
    "## 4. Alice allows the algorithm for C2D for that data asset"
   ]
  },
  {
   "cell_type": "markdown",
   "id": "d8a8551f",
   "metadata": {},
   "source": [
    "If you try to run the following cell immediately after publish, it might fail. This may be because the asset is not yet cached when the code tries to access it from Aquarius. If this is the case, re-run it and it should work."
   ]
  },
  {
   "cell_type": "code",
   "execution_count": 8,
   "id": "9e0ffd94",
   "metadata": {},
   "outputs": [
    {
     "data": {
      "text/plain": [
       "'0x0b3ae5019b0d5c8e27074820bed7fdd44bc0ac3c1a101599ab18beaa9699846b'"
      ]
     },
     "execution_count": 8,
     "metadata": {},
     "output_type": "execute_result"
    }
   ],
   "source": [
    "from ocean_lib.assets import trusted_algorithms\n",
    "trusted_algorithms.add_publisher_trusted_algorithm(DATA_ddo, ALG_ddo.did, config.metadata_cache_uri)\n",
    "ocean.assets.update(DATA_ddo, publisher_wallet=alice_wallet)"
   ]
  },
  {
   "cell_type": "markdown",
   "id": "03488ad8",
   "metadata": {},
   "source": [
    "## 5. Bob acquires datatokens for data and algorithm"
   ]
  },
  {
   "cell_type": "code",
   "execution_count": 9,
   "id": "8511597a",
   "metadata": {},
   "outputs": [
    {
     "name": "stdout",
     "output_type": "stream",
     "text": [
      "bob_wallet.address = '0xBE5449a6A97aD46c8558A3356267Ee5D2731ab5e'\n"
     ]
    },
    {
     "data": {
      "text/plain": [
       "'0xb7fd48a5e46288f2f1e8216dca77a2ad6afb94640517a761246aaa8b669b584e'"
      ]
     },
     "execution_count": 9,
     "metadata": {},
     "output_type": "execute_result"
    }
   ],
   "source": [
    "bob_wallet = Wallet(ocean.web3, os.getenv('TEST_PRIVATE_KEY2'), transaction_timeout=20, block_confirmations=config.block_confirmations)\n",
    "print(f\"bob_wallet.address = '{bob_wallet.address}'\")\n",
    "\n",
    "# Alice shares access for both to Bob, as datatokens. Alternatively, Bob might have bought these in a market.\n",
    "DATA_datatoken.transfer(bob_wallet.address, to_wei(5), from_wallet=alice_wallet)\n",
    "ALG_datatoken.transfer(bob_wallet.address, to_wei(5), from_wallet=alice_wallet)"
   ]
  },
  {
   "cell_type": "markdown",
   "id": "17dff540",
   "metadata": {},
   "source": [
    "## 6. Bob starts a compute job\n",
    "\n",
    "Only inputs needed: DATA_did, ALG_did. Everything else can get computed as needed."
   ]
  },
  {
   "cell_type": "code",
   "execution_count": 10,
   "id": "9fe35d01",
   "metadata": {},
   "outputs": [],
   "source": [
    "DATA_did = DATA_ddo.did  # for convenience\n",
    "ALG_did = ALG_ddo.did\n",
    "DATA_DDO = ocean.assets.resolve(DATA_did)  # make sure we operate on the updated and indexed metadata_cache_uri versions\n",
    "ALG_DDO = ocean.assets.resolve(ALG_did)\n",
    "\n",
    "compute_service = DATA_DDO.get_service('compute')\n",
    "algo_service = ALG_DDO.get_service('access')\n",
    "\n",
    "from ocean_lib.web3_internal.constants import ZERO_ADDRESS\n",
    "from ocean_lib.models.compute_input import ComputeInput\n",
    "\n",
    "# order & pay for dataset\n",
    "dataset_order_requirements = ocean.assets.order(\n",
    "    DATA_did, bob_wallet.address, service_type=compute_service.type\n",
    ")"
   ]
  },
  {
   "cell_type": "code",
   "execution_count": 11,
   "id": "d70a4bef",
   "metadata": {},
   "outputs": [],
   "source": [
    "DATA_order_tx_id = ocean.assets.pay_for_service(\n",
    "        ocean.web3,\n",
    "        dataset_order_requirements.amount,\n",
    "        dataset_order_requirements.data_token_address,\n",
    "        DATA_did,\n",
    "        compute_service.index,\n",
    "        ZERO_ADDRESS,\n",
    "        bob_wallet,\n",
    "        dataset_order_requirements.computeAddress,\n",
    "    )"
   ]
  },
  {
   "cell_type": "code",
   "execution_count": 12,
   "id": "eee40868",
   "metadata": {},
   "outputs": [],
   "source": [
    "# order & pay for algo\n",
    "algo_order_requirements = ocean.assets.order(\n",
    "    ALG_did, bob_wallet.address, service_type=algo_service.type\n",
    ")\n",
    "ALG_order_tx_id = ocean.assets.pay_for_service(\n",
    "        ocean.web3,\n",
    "        algo_order_requirements.amount,\n",
    "        algo_order_requirements.data_token_address,\n",
    "        ALG_did,\n",
    "        algo_service.index,\n",
    "        ZERO_ADDRESS,\n",
    "        bob_wallet,\n",
    "        algo_order_requirements.computeAddress,\n",
    ")"
   ]
  },
  {
   "cell_type": "code",
   "execution_count": 13,
   "id": "41f74b65",
   "metadata": {},
   "outputs": [
    {
     "name": "stdout",
     "output_type": "stream",
     "text": [
      "Started compute job with id: 61010a36e1414ec08615a5a18478353c\n"
     ]
    }
   ],
   "source": [
    "compute_inputs = [ComputeInput(DATA_did, DATA_order_tx_id, compute_service.index)]\n",
    "job_id = ocean.compute.start(\n",
    "    compute_inputs,\n",
    "    bob_wallet,\n",
    "    algorithm_did=ALG_did,\n",
    "    algorithm_tx_id=ALG_order_tx_id,\n",
    "    algorithm_data_token=ALG_datatoken.address\n",
    ")\n",
    "print(f\"Started compute job with id: {job_id}\")"
   ]
  },
  {
   "cell_type": "markdown",
   "id": "77d8c3ae",
   "metadata": {},
   "source": [
    "## 7. Bob monitors logs / algorithm output\n",
    "\n",
    "You can check the job status as many times as needed:"
   ]
  },
  {
   "cell_type": "code",
   "execution_count": 15,
   "id": "a8e5a912",
   "metadata": {},
   "outputs": [
    {
     "data": {
      "text/plain": [
       "{'ok': True, 'status': 70, 'statusText': 'Job finished'}"
      ]
     },
     "execution_count": 15,
     "metadata": {},
     "output_type": "execute_result"
    }
   ],
   "source": [
    "ocean.compute.status(DATA_did, job_id, bob_wallet)"
   ]
  },
  {
   "cell_type": "markdown",
   "id": "cf7d116e",
   "metadata": {},
   "source": [
    "This will output the status of the current job.\n",
    "Here is a list of possible results: [Operator Service Status description](https://github.com/oceanprotocol/operator-service/blob/main/API.md#status-description).\n",
    "\n",
    "Once you get `{'ok': True, 'status': 70, 'statusText': 'Job finished'}`, Bob can check the result of the job."
   ]
  },
  {
   "cell_type": "code",
   "execution_count": 16,
   "id": "890cc96d",
   "metadata": {},
   "outputs": [],
   "source": [
    "result = ocean.compute.result_file(DATA_did, job_id, 0, bob_wallet)  # 0 index, means we retrieve the results from the first dataset index"
   ]
  },
  {
   "cell_type": "markdown",
   "id": "cbbf192b",
   "metadata": {},
   "source": [
    "You can use the result however you like. For the purpose of this example, let's plot it.\n"
   ]
  },
  {
   "cell_type": "code",
   "execution_count": 17,
   "id": "1a305f90",
   "metadata": {},
   "outputs": [],
   "source": [
    "import pickle\n",
    "model = pickle.loads(result)  # the gaussian model result"
   ]
  },
  {
   "cell_type": "code",
   "execution_count": 18,
   "id": "cbdfa0dd",
   "metadata": {},
   "outputs": [
    {
     "data": {
      "image/png": "[encoded data removed]",
      "text/plain": [
       "<Figure size 432x288 with 1 Axes>"
      ]
     },
     "metadata": {
      "needs_background": "light"
     },
     "output_type": "display_data"
    }
   ],
   "source": [
    "import numpy\n",
    "from matplotlib import pyplot\n",
    "\n",
    "X0_vec = numpy.linspace(-5., 10., 15)\n",
    "X1_vec = numpy.linspace(0., 15., 15)\n",
    "X0, X1 = numpy.meshgrid(X0_vec, X1_vec)\n",
    "b, c, t = 0.12918450914398066, 1.5915494309189535, 0.039788735772973836\n",
    "u = X1 - b*X0**2 + c*X0 - 6\n",
    "r = 10.*(1. - t) * numpy.cos(X0) + 10\n",
    "Z = u**2 + r\n",
    "\n",
    "fig, ax = pyplot.subplots(subplot_kw={\"projection\": \"3d\"})\n",
    "ax.scatter(X0, X1, model, c=\"r\", label=\"model\")\n",
    "pyplot.title(\"Data + model\")\n",
    "pyplot.show() # or pyplot.savefig(\"test.png\") to save the plot as a .png file instead"
   ]
  },
  {
   "cell_type": "code",
   "execution_count": null,
   "id": "b8e2ef1e",
   "metadata": {},
   "outputs": [],
   "source": []
  }
 ],
 "metadata": {
  "kernelspec": {
   "display_name": "Python 3",
   "language": "python",
   "name": "python3"
  },
  "language_info": {
   "codemirror_mode": {
    "name": "ipython",
    "version": 3
   },
   "file_extension": ".py",
   "mimetype": "text/x-python",
   "name": "python",
   "nbconvert_exporter": "python",
   "pygments_lexer": "ipython3",
   "version": "3.8.3"
  }
 },
 "nbformat": 4,
 "nbformat_minor": 5
}
