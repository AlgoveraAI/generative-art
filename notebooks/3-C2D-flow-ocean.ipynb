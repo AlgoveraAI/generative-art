{
 "cells": [
  {
   "cell_type": "markdown",
   "id": "1241ea89",
   "metadata": {},
   "source": [
    "Converted from the ocean.py C2D flow example [here](https://github.com/oceanprotocol/ocean.py/blob/main/READMEs/c2d-flow.md). Our example uses the Rinkeby test net instead of a local blockchain (using barge and ganache)."
   ]
  },
  {
   "cell_type": "markdown",
   "id": "ea06c399",
   "metadata": {},
   "source": [
    "### Set envvars\n",
    "\n",
    "In the work console:\n",
    "```console\n",
    "#set private keys of two accounts\n",
    "export TEST_PRIVATE_KEY1=0x5d75837394b078ce97bc289fa8d75e21000573520bfa7784a9d28ccaae602bf8\n",
    "export TEST_PRIVATE_KEY2=0xef4b441145c1d0f3b4bc6d61d29f5c6e502359481152f869247c7a4244d45209\n",
    "```"
   ]
  },
  {
   "cell_type": "code",
   "execution_count": 1,
   "id": "d69f9486",
   "metadata": {},
   "outputs": [
    {
     "name": "stdout",
     "output_type": "stream",
     "text": [
      "config.network_url = 'https://rinkeby.infura.io/v3/d163c48816434b0bbb3ac3925d6c6c80'\n",
      "config.block_confirmations = 0\n",
      "config.metadata_cache_uri = 'https://aquarius.oceanprotocol.com'\n",
      "config.provider_url = 'https://provider.rinkeby.oceanprotocol.com'\n"
     ]
    }
   ],
   "source": [
    "import _init_paths\n",
    "from ocean_lib.ocean.ocean import Ocean\n",
    "from ocean_lib.config import Config\n",
    "\n",
    "config = Config('config.ini')\n",
    "ocean = Ocean(config)\n",
    "\n",
    "print(f\"config.network_url = '{config.network_url}'\")\n",
    "print(f\"config.block_confirmations = {config.block_confirmations.value}\")\n",
    "print(f\"config.metadata_cache_uri = '{config.metadata_cache_uri}'\")\n",
    "print(f\"config.provider_url = '{config.provider_url}'\")"
   ]
  },
  {
   "cell_type": "code",
   "execution_count": 2,
   "id": "8989b37c",
   "metadata": {},
   "outputs": [
    {
     "name": "stdout",
     "output_type": "stream",
     "text": [
      "alice_wallet.address = '0xA78deb2Fa79463945C247991075E2a0e98Ba7A09'\n"
     ]
    }
   ],
   "source": [
    "# Create Alice's wallet\n",
    "import os\n",
    "from ocean_lib.web3_internal.wallet import Wallet\n",
    "alice_wallet = Wallet(ocean.web3, os.getenv('TEST_PRIVATE_KEY1'), transaction_timeout=20, block_confirmations=config.block_confirmations)\n",
    "print(f\"alice_wallet.address = '{alice_wallet.address}'\")"
   ]
  },
  {
   "cell_type": "code",
   "execution_count": 3,
   "id": "cd6b54fe",
   "metadata": {},
   "outputs": [],
   "source": [
    "assert alice_wallet.web3.eth.get_balance(alice_wallet.address) > 0, \"need ETH\""
   ]
  },
  {
   "cell_type": "markdown",
   "id": "c36805c5",
   "metadata": {},
   "source": [
    "If ETH balance is low, you can request some for alice_wallet.address from the Rinkeby faucet [here](https://faucet.rinkeby.io/) (you'll need to make a tweet). "
   ]
  },
  {
   "cell_type": "markdown",
   "id": "ce0a4f3b",
   "metadata": {},
   "source": [
    "## 2. Alice publishes data asset"
   ]
  },
  {
   "cell_type": "code",
   "execution_count": 4,
   "id": "897d9692",
   "metadata": {},
   "outputs": [
    {
     "name": "stdout",
     "output_type": "stream",
     "text": [
      "DATA_datatoken.address = '0x2D0790745479A30eACc4424d35529ef0997E544c'\n"
     ]
    }
   ],
   "source": [
    "# Publish DATA datatoken, mint tokens\n",
    "from ocean_lib.web3_internal.currency import to_wei\n",
    "\n",
    "DATA_datatoken = ocean.create_data_token('DATA1', 'DATA1', alice_wallet, blob=ocean.config.metadata_cache_uri)\n",
    "DATA_datatoken.mint(alice_wallet.address, to_wei(100), alice_wallet)\n",
    "print(f\"DATA_datatoken.address = '{DATA_datatoken.address}'\")"
   ]
  },
  {
   "cell_type": "code",
   "execution_count": 5,
   "id": "9fb0b7e3",
   "metadata": {},
   "outputs": [
    {
     "name": "stdout",
     "output_type": "stream",
     "text": [
      "signing message with nonce 23: 0x2D0790745479A30eACc4424d35529ef0997E544c, account=0xA78deb2Fa79463945C247991075E2a0e98Ba7A09\n",
      "DATA did = 'did:op:2D0790745479A30eACc4424d35529ef0997E544c'\n"
     ]
    }
   ],
   "source": [
    "# Specify metadata & service attributes for Branin test dataset.\n",
    "# It's specified using _local_ DDO metadata format; Aquarius will convert it to remote\n",
    "# by removing `url` and adding `encryptedFiles` field.\n",
    "DATA_metadata = {\n",
    "    \"main\": {\n",
    "        \"type\": \"dataset\",\n",
    "        \"files\": [\n",
    "      {\n",
    "        \"url\": \"https://raw.githubusercontent.com/trentmc/branin/main/branin.arff\",\n",
    "        \"index\": 0,\n",
    "        \"contentType\": \"text/text\"\n",
    "      }\n",
    "    ],\n",
    "    \"name\": \"branin\", \"author\": \"Trent\", \"license\": \"CC0\",\n",
    "    \"dateCreated\": \"2019-12-28T10:55:11Z\"\n",
    "    }\n",
    "}\n",
    "DATA_service_attributes = {\n",
    "    \"main\": {\n",
    "        \"name\": \"DATA_dataAssetAccessServiceAgreement\",\n",
    "        \"creator\": alice_wallet.address,\n",
    "        \"timeout\": 3600 * 24,\n",
    "        \"datePublished\": \"2019-12-28T10:55:11Z\",\n",
    "        \"cost\": 1.0, # <don't change, this is obsolete>\n",
    "        }\n",
    "    }\n",
    "\n",
    "# Set up a service provider. We'll use this same provider for ALG\n",
    "from ocean_lib.data_provider.data_service_provider import DataServiceProvider\n",
    "provider_url = DataServiceProvider.get_url(ocean.config)\n",
    "# returns \"http://localhost:8030\"\n",
    "\n",
    "# Calc DATA service compute descriptor\n",
    "from ocean_lib.services.service import Service\n",
    "from ocean_lib.common.agreements.service_types import ServiceTypes\n",
    "DATA_compute_service = Service(\n",
    "    service_endpoint=provider_url,\n",
    "    service_type=ServiceTypes.CLOUD_COMPUTE,\n",
    "    attributes=DATA_service_attributes\n",
    ")\n",
    "\n",
    "#Publish metadata and service info on-chain\n",
    "DATA_ddo = ocean.assets.create(\n",
    "  metadata=DATA_metadata, # {\"main\" : {\"type\" : \"dataset\", ..}, ..}\n",
    "  publisher_wallet=alice_wallet,\n",
    "  services=[DATA_compute_service],\n",
    "  data_token_address=DATA_datatoken.address)\n",
    "print(f\"DATA did = '{DATA_ddo.did}'\")"
   ]
  },
  {
   "cell_type": "markdown",
   "id": "290284ae",
   "metadata": {},
   "source": [
    "## 3. Alice publishes algorithm"
   ]
  },
  {
   "cell_type": "markdown",
   "id": "3f984444",
   "metadata": {},
   "source": [
    "For this step, there are some prerequisites needed. If you want to replace the sample algorithm with an algorithm of your choosing, you will need to do some dependency management.\n",
    "You can use one of the standard [Ocean algo_dockers images](https://github.com/oceanprotocol/algo_dockers) or publish a custom docker image.\n",
    "Use the image name and tag in the `container` part of the algorithm metadata.\n",
    "This docker image needs to have basic support for dependency installation e.g. in the case of Python, OS-level library installations, pip installations etc.\n",
    "Take a look at the [Ocean tutorials](https://docs.oceanprotocol.com/tutorials/compute-to-data-algorithms/) to learn more about docker image publishing."
   ]
  },
  {
   "cell_type": "code",
   "execution_count": 6,
   "id": "d2ef0dac",
   "metadata": {},
   "outputs": [
    {
     "name": "stdout",
     "output_type": "stream",
     "text": [
      "ALG_datatoken.address = '0x72C9883a9643998DB0c9Bf0DC96A3c6271838E97'\n",
      "signing message with nonce 24: 0x72C9883a9643998DB0c9Bf0DC96A3c6271838E97, account=0xA78deb2Fa79463945C247991075E2a0e98Ba7A09\n",
      "ALG did = 'did:op:72C9883a9643998DB0c9Bf0DC96A3c6271838E97'\n"
     ]
    }
   ],
   "source": [
    "# Publish ALG datatoken\n",
    "ALG_datatoken = ocean.create_data_token('ALG1', 'ALG1', alice_wallet, blob=ocean.config.metadata_cache_uri)\n",
    "ALG_datatoken.mint(alice_wallet.address, to_wei(100), alice_wallet)\n",
    "print(f\"ALG_datatoken.address = '{ALG_datatoken.address}'\")\n",
    "\n",
    "# Specify metadata and service attributes, for \"GPR\" algorithm script.\n",
    "# In same location as Branin test dataset. GPR = Gaussian Process Regression.\n",
    "ALG_metadata =  {\n",
    "    \"main\": {\n",
    "        \"type\": \"algorithm\",\n",
    "        \"algorithm\": {\n",
    "            \"language\": \"python\",\n",
    "            \"format\": \"docker-image\",\n",
    "            \"version\": \"0.1\",\n",
    "            \"container\": {\n",
    "              \"entrypoint\": \"python $ALGO\",\n",
    "              \"image\": \"oceanprotocol/algo_dockers\",\n",
    "              \"tag\": \"python-branin\"\n",
    "            }\n",
    "        },\n",
    "        \"files\": [\n",
    "      {\n",
    "        \"url\": \"https://raw.githubusercontent.com/trentmc/branin/main/gpr.py\",\n",
    "        \"index\": 0,\n",
    "        \"contentType\": \"text/text\",\n",
    "      }\n",
    "    ],\n",
    "    \"name\": \"gpr\", \"author\": \"Trent\", \"license\": \"CC0\",\n",
    "    \"dateCreated\": \"2020-01-28T10:55:11Z\"\n",
    "    }\n",
    "}\n",
    "ALG_service_attributes = {\n",
    "        \"main\": {\n",
    "            \"name\": \"ALG_dataAssetAccessServiceAgreement\",\n",
    "            \"creator\": alice_wallet.address,\n",
    "            \"timeout\": 3600 * 24,\n",
    "            \"datePublished\": \"2020-01-28T10:55:11Z\",\n",
    "            \"cost\": 1.0, # <don't change, this is obsolete>\n",
    "        }\n",
    "    }\n",
    "\n",
    "# Calc ALG service access descriptor. We use the same service provider as DATA\n",
    "ALG_access_service = Service(\n",
    "    service_endpoint=provider_url,\n",
    "    service_type=ServiceTypes.CLOUD_COMPUTE,\n",
    "    attributes=ALG_service_attributes\n",
    ")\n",
    "\n",
    "# Publish metadata and service info on-chain\n",
    "ALG_ddo = ocean.assets.create(\n",
    "  metadata=ALG_metadata, # {\"main\" : {\"type\" : \"algorithm\", ..}, ..}\n",
    "  publisher_wallet=alice_wallet,\n",
    "  services=[ALG_access_service],\n",
    "  data_token_address=ALG_datatoken.address)\n",
    "print(f\"ALG did = '{ALG_ddo.did}'\")"
   ]
  },
  {
   "cell_type": "markdown",
   "id": "47573179",
   "metadata": {},
   "source": [
    "Full details: [ALG_ddo](ALG_ddo.md)\n",
    "\n",
    "Please note that this example features a simple Python algorithm. If you publish an algorithm in another language, make sure you have an appropriate container to run it, including dependencies.\n",
    "You can find more information about how to do this in the [Ocean tutorials](https://docs.oceanprotocol.com/tutorials/compute-to-data-algorithms/)."
   ]
  },
  {
   "cell_type": "markdown",
   "id": "b5360225",
   "metadata": {},
   "source": [
    "## 4. Alice allows the algorithm for C2D for that data asset"
   ]
  },
  {
   "cell_type": "markdown",
   "id": "d8a8551f",
   "metadata": {},
   "source": [
    "If you try to run the following cell immediately after publish, it might fail. This may be because the asset is not yet cached when the code tries to access it from Aquarius. If this is the case, re-run it and it should work."
   ]
  },
  {
   "cell_type": "code",
   "execution_count": 8,
   "id": "9e0ffd94",
   "metadata": {},
   "outputs": [
    {
     "data": {
      "text/plain": [
       "'0x3152983bfcade043857bb7c0cbd8535702bcd436e3be7cebe57169bc8e5759a5'"
      ]
     },
     "execution_count": 8,
     "metadata": {},
     "output_type": "execute_result"
    }
   ],
   "source": [
    "from ocean_lib.assets import trusted_algorithms\n",
    "trusted_algorithms.add_publisher_trusted_algorithm(DATA_ddo, ALG_ddo.did, config.metadata_cache_uri)\n",
    "ocean.assets.update(DATA_ddo, publisher_wallet=alice_wallet)"
   ]
  },
  {
   "cell_type": "markdown",
   "id": "03488ad8",
   "metadata": {},
   "source": [
    "## 5. Bob acquires datatokens for data and algorithm"
   ]
  },
  {
   "cell_type": "code",
   "execution_count": 9,
   "id": "8511597a",
   "metadata": {},
   "outputs": [
    {
     "name": "stdout",
     "output_type": "stream",
     "text": [
      "bob_wallet.address = '0xBE5449a6A97aD46c8558A3356267Ee5D2731ab5e'\n"
     ]
    },
    {
     "data": {
      "text/plain": [
       "'0x6d8fc2627d7fb680407db1e6d4462b43e3b910f325acc52ab6c559a1af7e091d'"
      ]
     },
     "execution_count": 9,
     "metadata": {},
     "output_type": "execute_result"
    }
   ],
   "source": [
    "bob_wallet = Wallet(ocean.web3, os.getenv('TEST_PRIVATE_KEY2'), transaction_timeout=20, block_confirmations=config.block_confirmations)\n",
    "print(f\"bob_wallet.address = '{bob_wallet.address}'\")\n",
    "\n",
    "# Alice shares access for both to Bob, as datatokens. Alternatively, Bob might have bought these in a market.\n",
    "DATA_datatoken.transfer(bob_wallet.address, to_wei(5), from_wallet=alice_wallet)\n",
    "ALG_datatoken.transfer(bob_wallet.address, to_wei(5), from_wallet=alice_wallet)"
   ]
  },
  {
   "cell_type": "markdown",
   "id": "17dff540",
   "metadata": {},
   "source": [
    "## 6. Bob starts a compute job\n",
    "\n",
    "Only inputs needed: DATA_did, ALG_did. Everything else can get computed as needed."
   ]
  },
  {
   "cell_type": "code",
   "execution_count": 10,
   "id": "9fe35d01",
   "metadata": {},
   "outputs": [],
   "source": [
    "DATA_did = DATA_ddo.did  # for convenience\n",
    "ALG_did = ALG_ddo.did\n",
    "DATA_DDO = ocean.assets.resolve(DATA_did)  # make sure we operate on the updated and indexed metadata_cache_uri versions\n",
    "ALG_DDO = ocean.assets.resolve(ALG_did)\n",
    "\n",
    "compute_service = DATA_DDO.get_service('compute')\n",
    "algo_service = ALG_DDO.get_service('access')\n",
    "\n",
    "from ocean_lib.web3_internal.constants import ZERO_ADDRESS\n",
    "from ocean_lib.models.compute_input import ComputeInput\n",
    "\n",
    "# order & pay for dataset\n",
    "dataset_order_requirements = ocean.assets.order(\n",
    "    DATA_did, bob_wallet.address, service_type=compute_service.type\n",
    ")"
   ]
  },
  {
   "cell_type": "code",
   "execution_count": 11,
   "id": "d70a4bef",
   "metadata": {},
   "outputs": [],
   "source": [
    "DATA_order_tx_id = ocean.assets.pay_for_service(\n",
    "        ocean.web3,\n",
    "        dataset_order_requirements.amount,\n",
    "        dataset_order_requirements.data_token_address,\n",
    "        DATA_did,\n",
    "        compute_service.index,\n",
    "        ZERO_ADDRESS,\n",
    "        bob_wallet,\n",
    "        dataset_order_requirements.computeAddress,\n",
    "    )"
   ]
  },
  {
   "cell_type": "code",
   "execution_count": 12,
   "id": "eee40868",
   "metadata": {},
   "outputs": [],
   "source": [
    "# order & pay for algo\n",
    "algo_order_requirements = ocean.assets.order(\n",
    "    ALG_did, bob_wallet.address, service_type=algo_service.type\n",
    ")\n",
    "ALG_order_tx_id = ocean.assets.pay_for_service(\n",
    "        ocean.web3,\n",
    "        algo_order_requirements.amount,\n",
    "        algo_order_requirements.data_token_address,\n",
    "        ALG_did,\n",
    "        algo_service.index,\n",
    "        ZERO_ADDRESS,\n",
    "        bob_wallet,\n",
    "        algo_order_requirements.computeAddress,\n",
    ")"
   ]
  },
  {
   "cell_type": "code",
   "execution_count": 13,
   "id": "41f74b65",
   "metadata": {},
   "outputs": [
    {
     "name": "stdout",
     "output_type": "stream",
     "text": [
      "Started compute job with id: 15a0aff68baa405dac2c8a3f7ef9d052\n"
     ]
    }
   ],
   "source": [
    "compute_inputs = [ComputeInput(DATA_did, DATA_order_tx_id, compute_service.index)]\n",
    "job_id = ocean.compute.start(\n",
    "    compute_inputs,\n",
    "    bob_wallet,\n",
    "    algorithm_did=ALG_did,\n",
    "    algorithm_tx_id=ALG_order_tx_id,\n",
    "    algorithm_data_token=ALG_datatoken.address\n",
    ")\n",
    "print(f\"Started compute job with id: {job_id}\")"
   ]
  },
  {
   "cell_type": "markdown",
   "id": "77d8c3ae",
   "metadata": {},
   "source": [
    "## 7. Bob monitors logs / algorithm output\n",
    "\n",
    "You can check the job status as many times as needed:"
   ]
  },
  {
   "cell_type": "code",
   "execution_count": 30,
   "id": "a8e5a912",
   "metadata": {},
   "outputs": [
    {
     "data": {
      "text/plain": [
       "{'ok': True, 'status': 70, 'statusText': 'Job finished'}"
      ]
     },
     "execution_count": 30,
     "metadata": {},
     "output_type": "execute_result"
    }
   ],
   "source": [
    "ocean.compute.status(DATA_did, job_id, bob_wallet)"
   ]
  },
  {
   "cell_type": "markdown",
   "id": "cf7d116e",
   "metadata": {},
   "source": [
    "This will output the status of the current job.\n",
    "Here is a list of possible results: [Operator Service Status description](https://github.com/oceanprotocol/operator-service/blob/main/API.md#status-description).\n",
    "\n",
    "Once you get `{'ok': True, 'status': 70, 'statusText': 'Job finished'}`, Bob can check the result of the job."
   ]
  },
  {
   "cell_type": "code",
   "execution_count": 38,
   "id": "890cc96d",
   "metadata": {},
   "outputs": [
    {
     "ename": "Exception",
     "evalue": "b'<!DOCTYPE HTML PUBLIC \"-//W3C//DTD HTML 3.2 Final//EN\">\\n<title>404 Not Found</title>\\n<h1>Not Found</h1>\\n<p>The requested URL was not found on the server. If you entered the URL manually please check your spelling and try again.</p>\\n'",
     "output_type": "error",
     "traceback": [
      "\u001b[0;31m---------------------------------------------------------------------------\u001b[0m",
      "\u001b[0;31mException\u001b[0m                                 Traceback (most recent call last)",
      "\u001b[0;32m/tmp/ipykernel_1380/501523052.py\u001b[0m in \u001b[0;36m<module>\u001b[0;34m\u001b[0m\n\u001b[0;32m----> 1\u001b[0;31m \u001b[0mresult\u001b[0m \u001b[0;34m=\u001b[0m \u001b[0mocean\u001b[0m\u001b[0;34m.\u001b[0m\u001b[0mcompute\u001b[0m\u001b[0;34m.\u001b[0m\u001b[0mresult_file\u001b[0m\u001b[0;34m(\u001b[0m\u001b[0mDATA_did\u001b[0m\u001b[0;34m,\u001b[0m \u001b[0mjob_id\u001b[0m\u001b[0;34m,\u001b[0m \u001b[0;36m0\u001b[0m\u001b[0;34m,\u001b[0m \u001b[0mbob_wallet\u001b[0m\u001b[0;34m)\u001b[0m  \u001b[0;31m# 0 index, means we retrieve the results from the first dataset index\u001b[0m\u001b[0;34m\u001b[0m\u001b[0;34m\u001b[0m\u001b[0m\n\u001b[0m",
      "\u001b[0;32m~/venv/lib/python3.8/site-packages/enforce_typing/decorator.py\u001b[0m in \u001b[0;36mwrapper\u001b[0;34m(*args, **kwargs)\u001b[0m\n\u001b[1;32m     27\u001b[0m         \u001b[0;32mdef\u001b[0m \u001b[0mwrapper\u001b[0m\u001b[0;34m(\u001b[0m\u001b[0;34m*\u001b[0m\u001b[0margs\u001b[0m\u001b[0;34m,\u001b[0m \u001b[0;34m**\u001b[0m\u001b[0mkwargs\u001b[0m\u001b[0;34m)\u001b[0m\u001b[0;34m:\u001b[0m\u001b[0;34m\u001b[0m\u001b[0;34m\u001b[0m\u001b[0m\n\u001b[1;32m     28\u001b[0m             \u001b[0mcheck_types\u001b[0m\u001b[0;34m(\u001b[0m\u001b[0;34m*\u001b[0m\u001b[0margs\u001b[0m\u001b[0;34m,\u001b[0m \u001b[0;34m**\u001b[0m\u001b[0mkwargs\u001b[0m\u001b[0;34m)\u001b[0m\u001b[0;34m\u001b[0m\u001b[0;34m\u001b[0m\u001b[0m\n\u001b[0;32m---> 29\u001b[0;31m             \u001b[0;32mreturn\u001b[0m \u001b[0mfunc\u001b[0m\u001b[0;34m(\u001b[0m\u001b[0;34m*\u001b[0m\u001b[0margs\u001b[0m\u001b[0;34m,\u001b[0m \u001b[0;34m**\u001b[0m\u001b[0mkwargs\u001b[0m\u001b[0;34m)\u001b[0m\u001b[0;34m\u001b[0m\u001b[0;34m\u001b[0m\u001b[0m\n\u001b[0m\u001b[1;32m     30\u001b[0m \u001b[0;34m\u001b[0m\u001b[0m\n\u001b[1;32m     31\u001b[0m         \u001b[0;32mreturn\u001b[0m \u001b[0mwrapper\u001b[0m\u001b[0;34m\u001b[0m\u001b[0;34m\u001b[0m\u001b[0m\n",
      "\u001b[0;32m~/venv/lib/python3.8/site-packages/ocean_lib/ocean/ocean_compute.py\u001b[0m in \u001b[0;36mresult_file\u001b[0;34m(self, did, job_id, index, wallet)\u001b[0m\n\u001b[1;32m    426\u001b[0m         \u001b[0m_\u001b[0m\u001b[0;34m,\u001b[0m \u001b[0mservice_endpoint\u001b[0m \u001b[0;34m=\u001b[0m \u001b[0mself\u001b[0m\u001b[0;34m.\u001b[0m\u001b[0m_get_compute_result_file_endpoint\u001b[0m\u001b[0;34m(\u001b[0m\u001b[0mdid\u001b[0m\u001b[0;34m)\u001b[0m\u001b[0;34m\u001b[0m\u001b[0;34m\u001b[0m\u001b[0m\n\u001b[1;32m    427\u001b[0m         \u001b[0mmsg\u001b[0m \u001b[0;34m=\u001b[0m \u001b[0;34mf\"{wallet.address}{job_id}{str(index)}\"\u001b[0m\u001b[0;34m\u001b[0m\u001b[0;34m\u001b[0m\u001b[0m\n\u001b[0;32m--> 428\u001b[0;31m         result = self._data_provider.compute_job_result_file(\n\u001b[0m\u001b[1;32m    429\u001b[0m             \u001b[0mjob_id\u001b[0m\u001b[0;34m,\u001b[0m\u001b[0;34m\u001b[0m\u001b[0;34m\u001b[0m\u001b[0m\n\u001b[1;32m    430\u001b[0m             \u001b[0mindex\u001b[0m\u001b[0;34m,\u001b[0m\u001b[0;34m\u001b[0m\u001b[0;34m\u001b[0m\u001b[0m\n",
      "\u001b[0;32m~/venv/lib/python3.8/site-packages/enforce_typing/decorator.py\u001b[0m in \u001b[0;36mwrapper\u001b[0;34m(*args, **kwargs)\u001b[0m\n\u001b[1;32m     27\u001b[0m         \u001b[0;32mdef\u001b[0m \u001b[0mwrapper\u001b[0m\u001b[0;34m(\u001b[0m\u001b[0;34m*\u001b[0m\u001b[0margs\u001b[0m\u001b[0;34m,\u001b[0m \u001b[0;34m**\u001b[0m\u001b[0mkwargs\u001b[0m\u001b[0;34m)\u001b[0m\u001b[0;34m:\u001b[0m\u001b[0;34m\u001b[0m\u001b[0;34m\u001b[0m\u001b[0m\n\u001b[1;32m     28\u001b[0m             \u001b[0mcheck_types\u001b[0m\u001b[0;34m(\u001b[0m\u001b[0;34m*\u001b[0m\u001b[0margs\u001b[0m\u001b[0;34m,\u001b[0m \u001b[0;34m**\u001b[0m\u001b[0mkwargs\u001b[0m\u001b[0;34m)\u001b[0m\u001b[0;34m\u001b[0m\u001b[0;34m\u001b[0m\u001b[0m\n\u001b[0;32m---> 29\u001b[0;31m             \u001b[0;32mreturn\u001b[0m \u001b[0mfunc\u001b[0m\u001b[0;34m(\u001b[0m\u001b[0;34m*\u001b[0m\u001b[0margs\u001b[0m\u001b[0;34m,\u001b[0m \u001b[0;34m**\u001b[0m\u001b[0mkwargs\u001b[0m\u001b[0;34m)\u001b[0m\u001b[0;34m\u001b[0m\u001b[0;34m\u001b[0m\u001b[0m\n\u001b[0m\u001b[1;32m     30\u001b[0m \u001b[0;34m\u001b[0m\u001b[0m\n\u001b[1;32m     31\u001b[0m         \u001b[0;32mreturn\u001b[0m \u001b[0mwrapper\u001b[0m\u001b[0;34m\u001b[0m\u001b[0;34m\u001b[0m\u001b[0m\n",
      "\u001b[0;32m~/venv/lib/python3.8/site-packages/ocean_lib/data_provider/data_service_provider.py\u001b[0m in \u001b[0;36mcompute_job_result_file\u001b[0;34m(job_id, index, service_endpoint, consumer_address, signature)\u001b[0m\n\u001b[1;32m    483\u001b[0m \u001b[0;34m\u001b[0m\u001b[0m\n\u001b[1;32m    484\u001b[0m         \u001b[0;32mif\u001b[0m \u001b[0mresponse\u001b[0m\u001b[0;34m.\u001b[0m\u001b[0mstatus_code\u001b[0m \u001b[0;34m!=\u001b[0m \u001b[0;36m200\u001b[0m\u001b[0;34m:\u001b[0m\u001b[0;34m\u001b[0m\u001b[0;34m\u001b[0m\u001b[0m\n\u001b[0;32m--> 485\u001b[0;31m             \u001b[0;32mraise\u001b[0m \u001b[0mException\u001b[0m\u001b[0;34m(\u001b[0m\u001b[0mresponse\u001b[0m\u001b[0;34m.\u001b[0m\u001b[0mcontent\u001b[0m\u001b[0;34m)\u001b[0m\u001b[0;34m\u001b[0m\u001b[0;34m\u001b[0m\u001b[0m\n\u001b[0m\u001b[1;32m    486\u001b[0m \u001b[0;34m\u001b[0m\u001b[0m\n\u001b[1;32m    487\u001b[0m         \u001b[0;32mreturn\u001b[0m \u001b[0mresponse\u001b[0m\u001b[0;34m.\u001b[0m\u001b[0mcontent\u001b[0m\u001b[0;34m\u001b[0m\u001b[0;34m\u001b[0m\u001b[0m\n",
      "\u001b[0;31mException\u001b[0m: b'<!DOCTYPE HTML PUBLIC \"-//W3C//DTD HTML 3.2 Final//EN\">\\n<title>404 Not Found</title>\\n<h1>Not Found</h1>\\n<p>The requested URL was not found on the server. If you entered the URL manually please check your spelling and try again.</p>\\n'"
     ]
    }
   ],
   "source": [
    "result = ocean.compute.result_file(DATA_did, job_id, 0, bob_wallet)  # 0 index, means we retrieve the results from the first dataset index"
   ]
  },
  {
   "cell_type": "markdown",
   "id": "cbbf192b",
   "metadata": {},
   "source": [
    "You can use the result however you like. For the purpose of this example, let's plot it.\n"
   ]
  },
  {
   "cell_type": "code",
   "execution_count": null,
   "id": "1a305f90",
   "metadata": {},
   "outputs": [],
   "source": [
    "import pickle\n",
    "model = pickle.loads(result)  # the gaussian model result"
   ]
  }
 ],
 "metadata": {
  "kernelspec": {
   "display_name": "Python 3",
   "language": "python",
   "name": "python3"
  },
  "language_info": {
   "codemirror_mode": {
    "name": "ipython",
    "version": 3
   },
   "file_extension": ".py",
   "mimetype": "text/x-python",
   "name": "python",
   "nbconvert_exporter": "python",
   "pygments_lexer": "ipython3",
   "version": "3.8.3"
  }
 },
 "nbformat": 4,
 "nbformat_minor": 5
}
